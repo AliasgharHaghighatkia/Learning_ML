{
 "cells": [
  {
   "cell_type": "code",
   "execution_count": 1,
   "id": "07161170",
   "metadata": {},
   "outputs": [
    {
     "name": "stdout",
     "output_type": "stream",
     "text": [
      "sepal.length, sepal.width, petal.length, petal.width, variety\n",
      "5.1, 3.5, 1.4, .2, Setosa\n",
      "4.9, 3, 1.4, .2, Setosa\n",
      "4.7, 3.2, 1.3, .2, Setosa\n",
      "4.6, 3.1, 1.5, .2, Setosa\n",
      "5, 3.6, 1.4, .2, Setosa\n",
      "5.4, 3.9, 1.7, .4, Setosa\n",
      "4.6, 3.4, 1.4, .3, Setosa\n",
      "5, 3.4, 1.5, .2, Setosa\n",
      "4.4, 2.9, 1.4, .2, Setosa\n",
      "4.9, 3.1, 1.5, .1, Setosa\n",
      "5.4, 3.7, 1.5, .2, Setosa\n",
      "4.8, 3.4, 1.6, .2, Setosa\n",
      "4.8, 3, 1.4, .1, Setosa\n",
      "4.3, 3, 1.1, .1, Setosa\n",
      "5.8, 4, 1.2, .2, Setosa\n",
      "5.7, 4.4, 1.5, .4, Setosa\n",
      "5.4, 3.9, 1.3, .4, Setosa\n",
      "5.1, 3.5, 1.4, .3, Setosa\n",
      "5.7, 3.8, 1.7, .3, Setosa\n",
      "5.1, 3.8, 1.5, .3, Setosa\n",
      "5.4, 3.4, 1.7, .2, Setosa\n",
      "5.1, 3.7, 1.5, .4, Setosa\n",
      "4.6, 3.6, 1, .2, Setosa\n",
      "5.1, 3.3, 1.7, .5, Setosa\n",
      "4.8, 3.4, 1.9, .2, Setosa\n",
      "5, 3, 1.6, .2, Setosa\n",
      "5, 3.4, 1.6, .4, Setosa\n",
      "5.2, 3.5, 1.5, .2, Setosa\n",
      "5.2, 3.4, 1.4, .2, Setosa\n",
      "4.7, 3.2, 1.6, .2, Setosa\n",
      "4.8, 3.1, 1.6, .2, Setosa\n",
      "5.4, 3.4, 1.5, .4, Setosa\n",
      "5.2, 4.1, 1.5, .1, Setosa\n",
      "5.5, 4.2, 1.4, .2, Setosa\n",
      "4.9, 3.1, 1.5, .2, Setosa\n",
      "5, 3.2, 1.2, .2, Setosa\n",
      "5.5, 3.5, 1.3, .2, Setosa\n",
      "4.9, 3.6, 1.4, .1, Setosa\n",
      "4.4, 3, 1.3, .2, Setosa\n",
      "5.1, 3.4, 1.5, .2, Setosa\n",
      "5, 3.5, 1.3, .3, Setosa\n",
      "4.5, 2.3, 1.3, .3, Setosa\n",
      "4.4, 3.2, 1.3, .2, Setosa\n",
      "5, 3.5, 1.6, .6, Setosa\n",
      "5.1, 3.8, 1.9, .4, Setosa\n",
      "4.8, 3, 1.4, .3, Setosa\n",
      "5.1, 3.8, 1.6, .2, Setosa\n",
      "4.6, 3.2, 1.4, .2, Setosa\n",
      "5.3, 3.7, 1.5, .2, Setosa\n",
      "5, 3.3, 1.4, .2, Setosa\n",
      "7, 3.2, 4.7, 1.4, Versicolor\n",
      "6.4, 3.2, 4.5, 1.5, Versicolor\n",
      "6.9, 3.1, 4.9, 1.5, Versicolor\n",
      "5.5, 2.3, 4, 1.3, Versicolor\n",
      "6.5, 2.8, 4.6, 1.5, Versicolor\n",
      "5.7, 2.8, 4.5, 1.3, Versicolor\n",
      "6.3, 3.3, 4.7, 1.6, Versicolor\n",
      "4.9, 2.4, 3.3, 1, Versicolor\n",
      "6.6, 2.9, 4.6, 1.3, Versicolor\n",
      "5.2, 2.7, 3.9, 1.4, Versicolor\n",
      "5, 2, 3.5, 1, Versicolor\n",
      "5.9, 3, 4.2, 1.5, Versicolor\n",
      "6, 2.2, 4, 1, Versicolor\n",
      "6.1, 2.9, 4.7, 1.4, Versicolor\n",
      "5.6, 2.9, 3.6, 1.3, Versicolor\n",
      "6.7, 3.1, 4.4, 1.4, Versicolor\n",
      "5.6, 3, 4.5, 1.5, Versicolor\n",
      "5.8, 2.7, 4.1, 1, Versicolor\n",
      "6.2, 2.2, 4.5, 1.5, Versicolor\n",
      "5.6, 2.5, 3.9, 1.1, Versicolor\n",
      "5.9, 3.2, 4.8, 1.8, Versicolor\n",
      "6.1, 2.8, 4, 1.3, Versicolor\n",
      "6.3, 2.5, 4.9, 1.5, Versicolor\n",
      "6.1, 2.8, 4.7, 1.2, Versicolor\n",
      "6.4, 2.9, 4.3, 1.3, Versicolor\n",
      "6.6, 3, 4.4, 1.4, Versicolor\n",
      "6.8, 2.8, 4.8, 1.4, Versicolor\n",
      "6.7, 3, 5, 1.7, Versicolor\n",
      "6, 2.9, 4.5, 1.5, Versicolor\n",
      "5.7, 2.6, 3.5, 1, Versicolor\n",
      "5.5, 2.4, 3.8, 1.1, Versicolor\n",
      "5.5, 2.4, 3.7, 1, Versicolor\n",
      "5.8, 2.7, 3.9, 1.2, Versicolor\n",
      "6, 2.7, 5.1, 1.6, Versicolor\n",
      "5.4, 3, 4.5, 1.5, Versicolor\n",
      "6, 3.4, 4.5, 1.6, Versicolor\n",
      "6.7, 3.1, 4.7, 1.5, Versicolor\n",
      "6.3, 2.3, 4.4, 1.3, Versicolor\n",
      "5.6, 3, 4.1, 1.3, Versicolor\n",
      "5.5, 2.5, 4, 1.3, Versicolor\n",
      "5.5, 2.6, 4.4, 1.2, Versicolor\n",
      "6.1, 3, 4.6, 1.4, Versicolor\n",
      "5.8, 2.6, 4, 1.2, Versicolor\n",
      "5, 2.3, 3.3, 1, Versicolor\n",
      "5.6, 2.7, 4.2, 1.3, Versicolor\n",
      "5.7, 3, 4.2, 1.2, Versicolor\n",
      "5.7, 2.9, 4.2, 1.3, Versicolor\n",
      "6.2, 2.9, 4.3, 1.3, Versicolor\n",
      "5.1, 2.5, 3, 1.1, Versicolor\n",
      "5.7, 2.8, 4.1, 1.3, Versicolor\n",
      "6.3, 3.3, 6, 2.5, Virginica\n",
      "5.8, 2.7, 5.1, 1.9, Virginica\n",
      "7.1, 3, 5.9, 2.1, Virginica\n",
      "6.3, 2.9, 5.6, 1.8, Virginica\n",
      "6.5, 3, 5.8, 2.2, Virginica\n",
      "7.6, 3, 6.6, 2.1, Virginica\n",
      "4.9, 2.5, 4.5, 1.7, Virginica\n",
      "7.3, 2.9, 6.3, 1.8, Virginica\n",
      "6.7, 2.5, 5.8, 1.8, Virginica\n",
      "7.2, 3.6, 6.1, 2.5, Virginica\n",
      "6.5, 3.2, 5.1, 2, Virginica\n",
      "6.4, 2.7, 5.3, 1.9, Virginica\n",
      "6.8, 3, 5.5, 2.1, Virginica\n",
      "5.7, 2.5, 5, 2, Virginica\n",
      "5.8, 2.8, 5.1, 2.4, Virginica\n",
      "6.4, 3.2, 5.3, 2.3, Virginica\n",
      "6.5, 3, 5.5, 1.8, Virginica\n",
      "7.7, 3.8, 6.7, 2.2, Virginica\n",
      "7.7, 2.6, 6.9, 2.3, Virginica\n",
      "6, 2.2, 5, 1.5, Virginica\n",
      "6.9, 3.2, 5.7, 2.3, Virginica\n",
      "5.6, 2.8, 4.9, 2, Virginica\n",
      "7.7, 2.8, 6.7, 2, Virginica\n",
      "6.3, 2.7, 4.9, 1.8, Virginica\n",
      "6.7, 3.3, 5.7, 2.1, Virginica\n",
      "7.2, 3.2, 6, 1.8, Virginica\n",
      "6.2, 2.8, 4.8, 1.8, Virginica\n",
      "6.1, 3, 4.9, 1.8, Virginica\n",
      "6.4, 2.8, 5.6, 2.1, Virginica\n",
      "7.2, 3, 5.8, 1.6, Virginica\n",
      "7.4, 2.8, 6.1, 1.9, Virginica\n",
      "7.9, 3.8, 6.4, 2, Virginica\n",
      "6.4, 2.8, 5.6, 2.2, Virginica\n",
      "6.3, 2.8, 5.1, 1.5, Virginica\n",
      "6.1, 2.6, 5.6, 1.4, Virginica\n",
      "7.7, 3, 6.1, 2.3, Virginica\n",
      "6.3, 3.4, 5.6, 2.4, Virginica\n",
      "6.4, 3.1, 5.5, 1.8, Virginica\n",
      "6, 3, 4.8, 1.8, Virginica\n",
      "6.9, 3.1, 5.4, 2.1, Virginica\n",
      "6.7, 3.1, 5.6, 2.4, Virginica\n",
      "6.9, 3.1, 5.1, 2.3, Virginica\n",
      "5.8, 2.7, 5.1, 1.9, Virginica\n",
      "6.8, 3.2, 5.9, 2.3, Virginica\n",
      "6.7, 3.3, 5.7, 2.5, Virginica\n",
      "6.7, 3, 5.2, 2.3, Virginica\n",
      "6.3, 2.5, 5, 1.9, Virginica\n",
      "6.5, 3, 5.2, 2, Virginica\n",
      "6.2, 3.4, 5.4, 2.3, Virginica\n",
      "5.9, 3, 5.1, 1.8, Virginica\n"
     ]
    }
   ],
   "source": [
    "import csv\n",
    "with open(r'C:\\Users\\Almas\\Desktop\\Project_1\\Untitled Folder\\.ipynb_checkpoints\\iris.csv') as csvfile:\n",
    "    lines = csv.reader(csvfile)\n",
    "    for row in lines:\n",
    "        print(', '. join(row))"
   ]
  },
  {
   "cell_type": "code",
   "execution_count": 2,
   "id": "4e313c85",
   "metadata": {},
   "outputs": [],
   "source": [
    "import random\n",
    "def loadDataset(filename, split, trainingSet=[], testSet=[]):\n",
    "    with open(filename, 'r') as csvfile:\n",
    "        lines = csv.reader(csvfile)\n",
    "        dataset = list(lines)\n",
    "        for x in range(len(dataset)-1):\n",
    "            for y in range(4):\n",
    "                dataset[x][y] = float(dataset[x][y])\n",
    "            if random.random() < split:\n",
    "                trainingSet.append(dataset[x])\n",
    "            else:\n",
    "                testSet.append(dataset[x])"
   ]
  },
  {
   "cell_type": "code",
   "execution_count": 3,
   "id": "311f748e",
   "metadata": {},
   "outputs": [
    {
     "name": "stdout",
     "output_type": "stream",
     "text": [
      "Train: 98\n",
      "Test: 52\n"
     ]
    }
   ],
   "source": [
    "trainingSet=[]\n",
    "testSet=[]\n",
    "loadDataset(r'iris.data',  0.66, trainingSet,  testSet)\n",
    "print('Train: '  + repr(len(trainingSet)))\n",
    "print('Test: ' + repr(len(testSet)))"
   ]
  },
  {
   "cell_type": "code",
   "execution_count": 6,
   "id": "778c73dc",
   "metadata": {},
   "outputs": [],
   "source": [
    "import math\n",
    "def euclideanDistance(instance1, instance2, lenght):\n",
    "    distance = 1\n",
    "    for x in range(lenght):\n",
    "        distance += pow((instance1[x]-instance2[x]),2)\n",
    "    return math.sqrt(distance)    "
   ]
  },
  {
   "cell_type": "code",
   "execution_count": 7,
   "id": "71120ba6",
   "metadata": {},
   "outputs": [
    {
     "name": "stdout",
     "output_type": "stream",
     "text": [
      "Distance :3.605551275463989\n"
     ]
    }
   ],
   "source": [
    "data1 = [2,2,2,'a']\n",
    "data2 = [4,4,4,'b']\n",
    "distance = euclideanDistance(data1, data2, 3)\n",
    "print('Distance :'+ repr(distance))"
   ]
  },
  {
   "cell_type": "code",
   "execution_count": 9,
   "id": "4ef7e1a7",
   "metadata": {},
   "outputs": [],
   "source": [
    "import operator\n",
    "def getNeighbors(trainingSet, testInstance, k):\n",
    "    distances = []\n",
    "    lenght = len(testInstance)-1\n",
    "    for x in range(len(trainingSet)):\n",
    "        dist  =  euclideanDistance(testInstance, trainingSet[x], lenght)\n",
    "        distances.append((trainingSet[x], dist))\n",
    "    distances.sort(key=operator.itemgetter(1))    \n",
    "    neighbors=[]\n",
    "    for x in range(k):\n",
    "        neighbors.append(distances[x][0])\n",
    "    return neighbors          "
   ]
  },
  {
   "cell_type": "code",
   "execution_count": 18,
   "id": "a57cae3c",
   "metadata": {},
   "outputs": [
    {
     "name": "stdout",
     "output_type": "stream",
     "text": [
      "[[4, 4, 4, 'b']]\n"
     ]
    }
   ],
   "source": [
    "trainingSet = [[2, 2, 2, 'a'],[4, 4, 4, 'b'], [3, 3, 3, 'c']]\n",
    "testInstance = [5, 5, 5]\n",
    "k = 1\n",
    "neighbors = getNeighbors(trainingSet, testInstance, k)\n",
    "print(neighbors)"
   ]
  },
  {
   "cell_type": "code",
   "execution_count": 36,
   "id": "193958d9",
   "metadata": {},
   "outputs": [],
   "source": [
    "import operator\n",
    "def getResponse(neighbors):\n",
    "    classVots = {}\n",
    "    for x in range(len(neighbors)):\n",
    "        response = neighbors[x][-1]\n",
    "        if response in classVots:\n",
    "            classVots[response] += 1\n",
    "        else: \n",
    "            classVots[response] = 1\n",
    "            \n",
    "    sortedVotes = sorted(classVots.items(), key=operator.itemgetter(1), reverse = True)\n",
    "    return sortedVotes[0][0]"
   ]
  },
  {
   "cell_type": "code",
   "execution_count": 48,
   "id": "7ce81b56",
   "metadata": {},
   "outputs": [
    {
     "name": "stdout",
     "output_type": "stream",
     "text": [
      "a\n"
     ]
    }
   ],
   "source": [
    "neighbors = [[1,1,1,'a'],[2,2,2,'a'],[3,3,3,'b']]\n",
    "print(getResponse(neighbors))"
   ]
  },
  {
   "cell_type": "code",
   "execution_count": 49,
   "id": "cc416605",
   "metadata": {},
   "outputs": [],
   "source": [
    "def getAccuracy(testSet, predictions):\n",
    "    correct = 0\n",
    "    for x in range(len(testSet)):\n",
    "        if testSet[x][-1] is predictions[x]:\n",
    "            correct += 1\n",
    "    return (correct/float(len(testSet))) * 100"
   ]
  },
  {
   "cell_type": "code",
   "execution_count": 50,
   "id": "6a37ca5b",
   "metadata": {},
   "outputs": [
    {
     "name": "stdout",
     "output_type": "stream",
     "text": [
      "66.66666666666666\n"
     ]
    }
   ],
   "source": [
    "testSet = [[1,1,1,'a'],[2,2,2,'a'],[3,3,3,'b']]\n",
    "predictions = ['a', 'a', 'a', 'a']\n",
    "accuracy = getAccuracy(testSet, predictions)\n",
    "print(accuracy)"
   ]
  },
  {
   "cell_type": "code",
   "execution_count": null,
   "id": "ed558a31",
   "metadata": {},
   "outputs": [],
   "source": []
  }
 ],
 "metadata": {
  "kernelspec": {
   "display_name": "Python 3 (ipykernel)",
   "language": "python",
   "name": "python3"
  },
  "language_info": {
   "codemirror_mode": {
    "name": "ipython",
    "version": 3
   },
   "file_extension": ".py",
   "mimetype": "text/x-python",
   "name": "python",
   "nbconvert_exporter": "python",
   "pygments_lexer": "ipython3",
   "version": "3.9.7"
  }
 },
 "nbformat": 4,
 "nbformat_minor": 5
}
